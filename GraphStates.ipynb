{
 "cells": [
  {
   "cell_type": "code",
   "execution_count": 7,
   "metadata": {},
   "outputs": [],
   "source": [
    "from typing import TypedDict, Optional, Dict,Annotated\n",
    "from langgraph.graph import StateGraph ,START,END\n",
    "from langchain_openai import ChatOpenAI\n",
    "from langchain.prompts import PromptTemplate\n",
    "from langgraph.graph.message import  add_messages\n",
    "from pydantic import  BaseModel,Field"
   ]
  },
  {
   "cell_type": "markdown",
   "metadata": {},
   "source": [
    "Buisness need \n",
    "Gather and Analyze business requirments \n",
    "Deffine scope and Granularity \n",
    "Identify Fact Tables and Their Measures \n",
    "Define Dimensions and Conformed Dimensions\n",
    "Design the Star Schema Structure\n",
    "Optimize for Performance and Scalability\n",
    "Validate, Test, and Document"
   ]
  },
  {
   "cell_type": "code",
   "execution_count": null,
   "metadata": {},
   "outputs": [],
   "source": [
    "class BuisnessNeedPreProcessed(BaseModel):\n",
    "    \n",
    "    pass"
   ]
  },
  {
   "cell_type": "code",
   "execution_count": 15,
   "metadata": {},
   "outputs": [],
   "source": [
    "class GranularityScope(BaseModel):\n",
    "    pass\n"
   ]
  },
  {
   "cell_type": "code",
   "execution_count": 16,
   "metadata": {},
   "outputs": [],
   "source": [
    "class SchemaDesign(BaseModel):\n",
    "    pass"
   ]
  },
  {
   "cell_type": "code",
   "execution_count": 17,
   "metadata": {},
   "outputs": [],
   "source": [
    "class PerformanceOptimization(BaseModel):\n",
    "    pass"
   ]
  },
  {
   "cell_type": "code",
   "execution_count": 18,
   "metadata": {},
   "outputs": [],
   "source": [
    "class ErDiagram(BaseModel):\n",
    "    pass"
   ]
  },
  {
   "cell_type": "code",
   "execution_count": 14,
   "metadata": {},
   "outputs": [],
   "source": [
    "class CoddState(BaseModel):\n",
    "    business_need: Annotated[str, Field(description=\"Original raw business need text as provided by the client\")]\n",
    "    business_need_pre_processed: Annotated[str, Field(description=\"The pre-processed version of the business need with key points extracted\")]\n",
    "    granularity_scope: Annotated[str, Field(description=\"Defined granularity and scope of the business process for the schema\")]\n",
    "    schema_design: Annotated[str, Field(description=\"The designed star schema including fact and dimension definitions\")]\n",
    "    performance_optimization: Annotated[str, Field(description=\"Details on indexing, partitioning, and aggregation strategies to optimize performance\")]\n",
    "    er_diagram: Annotated[str, Field(description=\"Information about the generated ER diagram for the schema\")]\n",
    "    documentation: Annotated[str, Field(description=\"Documentation summarizing the design, decisions, and maintenance guidelines\")]\n",
    "    current_stage: Annotated[str, Field(description=\"Current processing stage in the Codd pipeline\")]\n",
    "    error: Annotated[str, Field(description=\"Defined granularity and scope of the business process for the schema\")]\n"
   ]
  },
  {
   "cell_type": "code",
   "execution_count": 4,
   "metadata": {},
   "outputs": [],
   "source": [
    "class State(TypedDict):\n",
    "    messages:Annotated[list,add_messages]\n",
    "\n",
    "\n",
    "graph_builder= StateGraph(State)"
   ]
  },
  {
   "cell_type": "code",
   "execution_count": null,
   "metadata": {},
   "outputs": [],
   "source": []
  },
  {
   "cell_type": "code",
   "execution_count": null,
   "metadata": {},
   "outputs": [],
   "source": []
  }
 ],
 "metadata": {
  "kernelspec": {
   "display_name": "Python (.venv)",
   "language": "python",
   "name": "venv"
  },
  "language_info": {
   "codemirror_mode": {
    "name": "ipython",
    "version": 3
   },
   "file_extension": ".py",
   "mimetype": "text/x-python",
   "name": "python",
   "nbconvert_exporter": "python",
   "pygments_lexer": "ipython3",
   "version": "3.10.16"
  }
 },
 "nbformat": 4,
 "nbformat_minor": 2
}
