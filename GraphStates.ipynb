{
 "cells": [
  {
   "cell_type": "markdown",
   "metadata": {},
   "source": [
    "# Imports"
   ]
  },
  {
   "cell_type": "code",
   "execution_count": 25,
   "metadata": {},
   "outputs": [],
   "source": [
    "from typing import TypedDict, Optional, Dict,Annotated ,List ,Literal\n",
    "from langgraph.graph import StateGraph ,START,END\n",
    "from langchain_openai import ChatOpenAI\n",
    "from langchain_groq import  ChatGroq\n",
    "from langchain.prompts import PromptTemplate\n",
    "from langgraph.graph.message import  add_messages\n",
    "from langgraph.checkpoint.memory import MemorySaver\n",
    "from langgraph.graph import  MessagesState\n",
    "from langchain_core.messages import HumanMessage,SystemMessage ,AnyMessage, AIMessage\n",
    "from pydantic import  BaseModel,Field\n",
    "from Prompts import  Prompts"
   ]
  },
  {
   "cell_type": "markdown",
   "metadata": {},
   "source": [
    "# Utilities"
   ]
  },
  {
   "cell_type": "code",
   "execution_count": 26,
   "metadata": {},
   "outputs": [],
   "source": [
    "def pretty_print(messages):\n",
    "    print(\"=\"*50)\n",
    "    print(\"MESSAGES PRETTY PRINTED\") \n",
    "    print(\"=\"*50)\n",
    "    for msg in messages:\n",
    "        print(\"=\"*50)\n",
    "        print(msg)\n",
    "        print(\"=\"*50)"
   ]
  },
  {
   "cell_type": "markdown",
   "metadata": {},
   "source": [
    "# Enviornment Vars"
   ]
  },
  {
   "cell_type": "code",
   "execution_count": 27,
   "metadata": {},
   "outputs": [],
   "source": [
    "KRUTRIM_API_KEY=\"LNDn2rbGUIGZznn1NXT7U4VcADf-d\"\n",
    "KRUTRIM_ENDPOINT=\"https://cloud.olakrutrim.com/v1\"\n",
    "MODEL_NAME=\"Llama-3.3-70B-Instruct\"\n",
    "EVALUATION_MODEL_NAME=\"Llama-3.3-70B-Instruct\"\n",
    "GROQ_API_KEY=\"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\"\n",
    "GROQ_MODEL_NAME=\"llama-3.3-70b-versatile\""
   ]
  },
  {
   "cell_type": "markdown",
   "metadata": {},
   "source": [
    "# Krutrim LLM"
   ]
  },
  {
   "cell_type": "code",
   "execution_count": 7,
   "metadata": {},
   "outputs": [],
   "source": [
    "llm = ChatOpenAI(api_key=KRUTRIM_API_KEY, base_url=KRUTRIM_ENDPOINT, model=MODEL_NAME)\n",
    "evaluation_llm= ChatOpenAI(api_key=KRUTRIM_API_KEY,base_url= KRUTRIM_ENDPOINT, model =EVALUATION_MODEL_NAME)\n",
    "evaluation_llm=evaluation_llm.with_structured_output(schema=Decision)"
   ]
  },
  {
   "cell_type": "markdown",
   "metadata": {},
   "source": [
    "# GROQ LLM"
   ]
  },
  {
   "cell_type": "code",
   "execution_count": 8,
   "metadata": {},
   "outputs": [],
   "source": [
    "groq_llm= ChatGroq(groq_api_key=GROQ_API_KEY,model_name= GROQ_MODEL_NAME)\n",
    "groq_evaluation_llm= ChatGroq(groq_api_key=GROQ_API_KEY,model =GROQ_MODEL_NAME)\n",
    "groq_evaluation_llm=groq_evaluation_llm.with_structured_output(schema=Decision)"
   ]
  },
  {
   "cell_type": "markdown",
   "metadata": {},
   "source": [
    "# Pydantic Models"
   ]
  },
  {
   "cell_type": "code",
   "execution_count": 6,
   "metadata": {},
   "outputs": [],
   "source": [
    "class Decision(BaseModel):\n",
    "    state: Annotated[Literal[\"Complete\", \"Incomplete\"], Field(description=\"Anlyse the conversation correctly\")]"
   ]
  },
  {
   "cell_type": "code",
   "execution_count": 9,
   "metadata": {},
   "outputs": [],
   "source": [
    "class BuisnessNeedPreProcessed(BaseModel):    \n",
    "    messages:Optional[Annotated[List[AnyMessage], add_messages, Field(description=\"Conversations as stored\")]]=None\n",
    "    processed_technical_conversions:Optional[Annotated[List[str],Field(description=\"\")]] = None"
   ]
  },
  {
   "cell_type": "markdown",
   "metadata": {},
   "source": [
    "# Codd State"
   ]
  },
  {
   "cell_type": "code",
   "execution_count": 10,
   "metadata": {},
   "outputs": [],
   "source": [
    "class CoddState(BaseModel):\n",
    "    business_need: Optional[Annotated[BuisnessNeedPreProcessed, Field(description=\"Original raw business need text as provided by the client\")]] = None"
   ]
  },
  {
   "cell_type": "markdown",
   "metadata": {},
   "source": [
    "# Nodes of graph"
   ]
  },
  {
   "cell_type": "code",
   "execution_count": 11,
   "metadata": {},
   "outputs": [],
   "source": [
    "def human_input_node(state:CoddState):\n",
    "    print(\"HUMAN INPUT NODE\") \n",
    "    print(\"=\"*20)   \n",
    "    human_input =input(\"Enter the follow up :\")   \n",
    "    print(f'The human input message is {HumanMessage(content=human_input)}')\n",
    "    return {\n",
    "        \"business_need\":{\n",
    "            \"messages\":state.business_need.messages + [HumanMessage(content=human_input)]\n",
    "        }\n",
    "    }"
   ]
  },
  {
   "cell_type": "code",
   "execution_count": 12,
   "metadata": {},
   "outputs": [],
   "source": [
    "def llm_node(state: CoddState):\n",
    "    print(\"LLM INPUT NODE\") \n",
    "    print(\"=\"*20 +\"\\n\"*5)   \n",
    "    response = groq_llm.invoke(state.business_need.messages)\n",
    "    print(f'The response is : {response}')\n",
    "    print(f'Type of the response is : {type(response)}')\n",
    "    return {\n",
    "        \"business_need\":{ \n",
    "            \"messages\": state.business_need.messages + [response]\n",
    "        }   \n",
    "    }"
   ]
  },
  {
   "cell_type": "code",
   "execution_count": null,
   "metadata": {},
   "outputs": [],
   "source": [
    "def technical_pre_processing_node(state:CoddState):\n",
    "    return {\n",
    "        \"business_need\":{ \n",
    "            \"messages\": state.business_need.message,\n",
    "            \"processed_technical_conversions\":[]\n",
    "        }   \n",
    "    }"
   ]
  },
  {
   "cell_type": "code",
   "execution_count": 24,
   "metadata": {},
   "outputs": [],
   "source": [
    "def techincal_pre_node(state:CoddState):\n",
    "    pass"
   ]
  },
  {
   "cell_type": "markdown",
   "metadata": {},
   "source": [
    "# Edges of Graph"
   ]
  },
  {
   "cell_type": "code",
   "execution_count": 15,
   "metadata": {},
   "outputs": [],
   "source": [
    "def routing_function(state: CoddState):\n",
    "    print(\"ROUTING FUNCTION\")\n",
    "    print(\"=\"*20 + \"\\n\"*5 )   \n",
    "    print(\"CURRENT CONVERSATION:\")\n",
    "    pretty_print(state.business_need.messages)\n",
    "    print(\"=\"*20 + \"\\n\"*5 )\n",
    "    print( f\"The state business need is of type {type(state.business_need)}\")\n",
    "    print( f\"The state business need is {state.business_need}\")\n",
    "    print(\"=\"*20)\n",
    "    print(f\"The state busineess need messages is of type {type(state.business_need.messages)}\")\n",
    "    print(f\"The state busineess need messages is {state.business_need.messages}\")\n",
    "    print(\"=\"*20)\n",
    "    if state.business_need and state.business_need.messages:\n",
    "        conversation_transcript = \"\\n\".join(\n",
    "            [msg.content for msg in state.business_need.messages]\n",
    "        )\n",
    "        print(f\"The conversation transcript is simply: {conversation_transcript}\")\n",
    "        evaluation_prompt =  Prompts.gen_conversation_evaluation().format(\n",
    "            conversation_transcript=conversation_transcript\n",
    "        )\n",
    "        evaluation_response = groq_evaluation_llm.invoke(evaluation_prompt)\n",
    "        print(f\"The evaluation response is {evaluation_response}\")\n",
    "        if evaluation_response.state == 'Complete':\n",
    "            return END\n",
    "        else:\n",
    "            return \"human_input_node\"\n",
    "    return \"human_input_node\"\n"
   ]
  },
  {
   "cell_type": "markdown",
   "metadata": {},
   "source": [
    "# Config Thread"
   ]
  },
  {
   "cell_type": "code",
   "execution_count": 16,
   "metadata": {},
   "outputs": [],
   "source": [
    "config = {\"configurable\": {\"thread_id\": \"abc123\"}}"
   ]
  },
  {
   "cell_type": "markdown",
   "metadata": {},
   "source": [
    "# Graph of the workflow"
   ]
  },
  {
   "cell_type": "markdown",
   "metadata": {},
   "source": [
    "#### Worflow added"
   ]
  },
  {
   "cell_type": "code",
   "execution_count": 17,
   "metadata": {},
   "outputs": [],
   "source": [
    "workflow = StateGraph(state_schema=CoddState)"
   ]
  },
  {
   "cell_type": "markdown",
   "metadata": {},
   "source": [
    "#### Add Nodes"
   ]
  },
  {
   "cell_type": "code",
   "execution_count": 18,
   "metadata": {},
   "outputs": [
    {
     "data": {
      "text/plain": [
       "<langgraph.graph.state.StateGraph at 0x7b6b4e498dc0>"
      ]
     },
     "execution_count": 18,
     "metadata": {},
     "output_type": "execute_result"
    }
   ],
   "source": [
    "workflow.add_node(\"human_input_node\",human_input_node)\n",
    "workflow.add_node(\"llm_node\", llm_node)"
   ]
  },
  {
   "cell_type": "markdown",
   "metadata": {},
   "source": [
    "#### Add Edges"
   ]
  },
  {
   "cell_type": "code",
   "execution_count": 19,
   "metadata": {},
   "outputs": [
    {
     "data": {
      "text/plain": [
       "<langgraph.graph.state.StateGraph at 0x7b6b4e498dc0>"
      ]
     },
     "execution_count": 19,
     "metadata": {},
     "output_type": "execute_result"
    }
   ],
   "source": [
    "workflow.add_edge(START, \"human_input_node\")\n",
    "workflow.add_edge(\"human_input_node\",\"llm_node\")\n",
    "workflow.add_conditional_edges(\"llm_node\", routing_function)"
   ]
  },
  {
   "cell_type": "markdown",
   "metadata": {},
   "source": [
    "#### Complie the Workflow with memory"
   ]
  },
  {
   "cell_type": "code",
   "execution_count": 20,
   "metadata": {},
   "outputs": [],
   "source": [
    "memory = MemorySaver()\n",
    "graph = workflow.compile(checkpointer=memory)"
   ]
  },
  {
   "cell_type": "markdown",
   "metadata": {},
   "source": [
    "# Display the graph"
   ]
  },
  {
   "cell_type": "code",
   "execution_count": 21,
   "metadata": {},
   "outputs": [
    {
     "data": {
      "image/png": "[encoded data removed]",
      "text/plain": [
       "<IPython.core.display.Image object>"
      ]
     },
     "metadata": {},
     "output_type": "display_data"
    }
   ],
   "source": [
    "from IPython.display import Image, display\n",
    "\n",
    "display(Image(graph.get_graph().draw_mermaid_png()))"
   ]
  },
  {
   "cell_type": "markdown",
   "metadata": {},
   "source": [
    "# Test and Run it "
   ]
  },
  {
   "cell_type": "markdown",
   "metadata": {},
   "source": [
    "### Run on same Thread"
   ]
  },
  {
   "cell_type": "code",
   "execution_count": null,
   "metadata": {},
   "outputs": [],
   "source": [
    "input_messages = [SystemMessage(Prompts.gen_analysis_business_need())]\n",
    "print(input_messages) \n",
    "print(\"=\"*20)   \n",
    "try:\n",
    "    output = graph.invoke({\"business_need\": {\"messages\":input_messages}}, config)\n",
    "except Exception as err:\n",
    "    print(err)"
   ]
  },
  {
   "cell_type": "markdown",
   "metadata": {},
   "source": [
    "# Make the Techincal Pre Processing"
   ]
  },
  {
   "cell_type": "code",
   "execution_count": null,
   "metadata": {},
   "outputs": [],
   "source": []
  }
 ],
 "metadata": {
  "kernelspec": {
   "display_name": ".venv",
   "language": "python",
   "name": "python3"
  },
  "language_info": {
   "codemirror_mode": {
    "name": "ipython",
    "version": 3
   },
   "file_extension": ".py",
   "mimetype": "text/x-python",
   "name": "python",
   "nbconvert_exporter": "python",
   "pygments_lexer": "ipython3",
   "version": "3.10.16"
  }
 },
 "nbformat": 4,
 "nbformat_minor": 2
}
